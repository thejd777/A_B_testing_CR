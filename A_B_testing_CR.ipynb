{
  "nbformat": 4,
  "nbformat_minor": 0,
  "metadata": {
    "colab": {
      "name": "homework8_colab_v4.ipynb",
      "provenance": [],
      "collapsed_sections": []
    },
    "kernelspec": {
      "display_name": "Python 3",
      "language": "python",
      "name": "python3"
    },
    "language_info": {
      "codemirror_mode": {
        "name": "ipython",
        "version": 3
      },
      "file_extension": ".py",
      "mimetype": "text/x-python",
      "name": "python",
      "nbconvert_exporter": "python",
      "pygments_lexer": "ipython3",
      "version": "3.8.8"
    }
  },
  "cells": [
    {
      "cell_type": "markdown",
      "metadata": {
        "id": "CUkp-2bzSojP"
      },
      "source": [
        "Подключаем необходимые библиотеки"
      ]
    },
    {
      "cell_type": "code",
      "metadata": {
        "id": "mvM9JdgOT24g",
        "colab": {
          "base_uri": "https://localhost:8080/"
        },
        "outputId": "5222d91c-a619-4920-b495-6371a5b0e0dd"
      },
      "source": [
        "import pandas as pd\n",
        "import numpy as np\n",
        "import seaborn as sns\n",
        "import matplotlib.pyplot as plt\n",
        "from scipy.stats import chi2\n",
        "from google.colab import files\n",
        "import io\n",
        "\n",
        "import statsmodels.stats.api as sms\n",
        "from math import ceil"
      ],
      "execution_count": 1,
      "outputs": [
        {
          "output_type": "stream",
          "text": [
            "/usr/local/lib/python3.7/dist-packages/statsmodels/tools/_testing.py:19: FutureWarning: pandas.util.testing is deprecated. Use the functions in the public API at pandas.testing instead.\n",
            "  import pandas.util.testing as tm\n"
          ],
          "name": "stderr"
        }
      ]
    },
    {
      "cell_type": "markdown",
      "metadata": {
        "id": "Qt2wMfC0Sylt"
      },
      "source": [
        "Загружаем файлы с данными и помещаем эти данные в переменные типа датафрейм(или сириес) библиотеки пандас  \n",
        "data1_1 - эксперимент 1, группа A  \n",
        "data1_2 - эксперимент 1, группа B  \n",
        "data2_1 - эксперимент 2, группа A  \n",
        "data2_2 - эксперимент 2, группа B  "
      ]
    },
    {
      "cell_type": "code",
      "metadata": {
        "id": "zSloazmvUBs-",
        "colab": {
          "resources": {
            "http://localhost:8080/nbextensions/google.colab/files.js": {
              "data": "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",
              "ok": true,
              "headers": [
                [
                  "content-type",
                  "application/javascript"
                ]
              ],
              "status": 200,
              "status_text": ""
            }
          },
          "base_uri": "https://localhost:8080/",
          "height": 106
        },
        "outputId": "28d5099e-8658-47ad-827f-c5e6ced21d18"
      },
      "source": [
        "uploaded=files.upload()\n",
        "data1_1 = pd.read_csv(io.StringIO(uploaded['experiment1_1.csv'].decode('utf-8')),sep=',')\n",
        "data1_2 = pd.read_csv(io.StringIO(uploaded['experiment1_2.csv'].decode('utf-8')),sep=',')\n",
        "#data2_1 = pd.read_csv(io.StringIO(uploaded['experiment2_1.csv'].decode('utf-8')),sep=',')\n",
        "#data2_2 = pd.read_csv(io.StringIO(uploaded['experiment2_2.csv'].decode('utf-8')),sep=',')"
      ],
      "execution_count": 15,
      "outputs": [
        {
          "output_type": "display_data",
          "data": {
            "text/html": [
              "\n",
              "     <input type=\"file\" id=\"files-2a7eaf9a-9681-425a-8c89-bc630fc7d523\" name=\"files[]\" multiple disabled\n",
              "        style=\"border:none\" />\n",
              "     <output id=\"result-2a7eaf9a-9681-425a-8c89-bc630fc7d523\">\n",
              "      Upload widget is only available when the cell has been executed in the\n",
              "      current browser session. Please rerun this cell to enable.\n",
              "      </output>\n",
              "      <script src=\"/nbextensions/google.colab/files.js\"></script> "
            ],
            "text/plain": [
              "<IPython.core.display.HTML object>"
            ]
          },
          "metadata": {
            "tags": []
          }
        },
        {
          "output_type": "stream",
          "text": [
            "Saving experiment1_1.csv to experiment1_1.csv\n",
            "Saving experiment1_2.csv to experiment1_2.csv\n"
          ],
          "name": "stdout"
        }
      ]
    },
    {
      "cell_type": "markdown",
      "metadata": {
        "id": "2WidRe9GuysR"
      },
      "source": [
        "# Эксперимент 1"
      ]
    },
    {
      "cell_type": "markdown",
      "metadata": {
        "id": "lODal_vSrodp"
      },
      "source": [
        "Очищаем исходные данные от дубликатов"
      ]
    },
    {
      "cell_type": "code",
      "metadata": {
        "id": "VYfiNKsGIxAM"
      },
      "source": [
        "data1_1NoDuplicates = data1_1.drop_duplicates()\n",
        "data1_2NoDuplicates = data1_2.drop_duplicates()"
      ],
      "execution_count": 16,
      "outputs": []
    },
    {
      "cell_type": "markdown",
      "metadata": {
        "id": "v4NwEcj7vEGo"
      },
      "source": [
        "Считаем количество уникальных сессий для групп A и B"
      ]
    },
    {
      "cell_type": "code",
      "metadata": {
        "id": "5XiucwoOFKCJ",
        "colab": {
          "base_uri": "https://localhost:8080/"
        },
        "outputId": "6f75a74c-18b2-4395-9bb7-6ae903ea190f"
      },
      "source": [
        "sessionCountA = data1_1NoDuplicates.groupby('session').count().shape[0]\n",
        "sessionCountB = data1_2NoDuplicates.groupby('session').count().shape[0]\n",
        "print(sessionCountA, sessionCountB)"
      ],
      "execution_count": 17,
      "outputs": [
        {
          "output_type": "stream",
          "text": [
            "40338 40532\n"
          ],
          "name": "stdout"
        }
      ]
    },
    {
      "cell_type": "markdown",
      "metadata": {
        "id": "qKXkYY6ivO-w"
      },
      "source": [
        "Считаем количество конверсий"
      ]
    },
    {
      "cell_type": "code",
      "metadata": {
        "id": "FnQBO5irY1zc",
        "colab": {
          "base_uri": "https://localhost:8080/"
        },
        "outputId": "8a0dbc2c-ab16-4472-af1e-8bcdf2634d8c"
      },
      "source": [
        "crACount = data1_1NoDuplicates[data1_1NoDuplicates['event'] == 'payment_done'].shape[0]\n",
        "crBCount = data1_2NoDuplicates[data1_2NoDuplicates['event'] == 'payment_done'].shape[0]\n",
        "print(crACount, crBCount)"
      ],
      "execution_count": 18,
      "outputs": [
        {
          "output_type": "stream",
          "text": [
            "138 154\n"
          ],
          "name": "stdout"
        }
      ]
    },
    {
      "cell_type": "markdown",
      "metadata": {
        "id": "-1HshOE5vYg5"
      },
      "source": [
        "Считаем конверсию для групп и смотрим на разность конверсий"
      ]
    },
    {
      "cell_type": "code",
      "metadata": {
        "colab": {
          "base_uri": "https://localhost:8080/"
        },
        "id": "zp3p7FFL4hj9",
        "outputId": "2ce64584-32a1-4b61-ffd9-f20407d82661"
      },
      "source": [
        "crA =  crACount / sessionCountA\n",
        "crB =  crBCount / sessionCountB\n",
        "crDelta = crB - crA\n",
        "print(crA, crB, crDelta)"
      ],
      "execution_count": 19,
      "outputs": [
        {
          "output_type": "stream",
          "text": [
            "0.003421091774505429 0.0037994670877331493 0.00037837531322772004\n"
          ],
          "name": "stdout"
        }
      ]
    },
    {
      "cell_type": "markdown",
      "metadata": {
        "id": "z82BuIiMv0Fh"
      },
      "source": [
        "Видим незначительное увеличение конверсии"
      ]
    },
    {
      "cell_type": "markdown",
      "metadata": {
        "id": "47dapEqafdfC"
      },
      "source": [
        "Теперь проверим, что количество выборки для групп достаточное для достоверного результата:"
      ]
    },
    {
      "cell_type": "code",
      "metadata": {
        "colab": {
          "base_uri": "https://localhost:8080/"
        },
        "id": "tOxZxDsBUY04",
        "outputId": "f79ff6f5-30a8-40ce-8888-74d2e3df7d69"
      },
      "source": [
        " # Calculating effect size based on our expected rates\n",
        "effect_size = sms.proportion_effectsize(crA, crB, method='normal')\n",
        "\n",
        "# Calculating sample size needed\n",
        "required_n = sms.NormalIndPower().solve_power(\n",
        "    effect_size, \n",
        "    power=0.8, \n",
        "    alpha=0.05, \n",
        "    ratio=1\n",
        "    )\n",
        "\n",
        "required_n = ceil(required_n)                          # Rounding up to next whole number                          \n",
        "print(required_n)"
      ],
      "execution_count": 20,
      "outputs": [
        {
          "output_type": "stream",
          "text": [
            "394152\n"
          ],
          "name": "stdout"
        }
      ]
    },
    {
      "cell_type": "markdown",
      "metadata": {
        "id": "cRQagKOhfoeW"
      },
      "source": [
        "Получаем размер выборки - 394152 посещений для каждой группы.  \n",
        "Это не удовлетваряет нашим группам, где в каждой около 40500 посещений."
      ]
    },
    {
      "cell_type": "markdown",
      "metadata": {
        "id": "s35GkEy4xl7K"
      },
      "source": [
        "Считаем сессии без конверсии"
      ]
    },
    {
      "cell_type": "code",
      "metadata": {
        "id": "ee3_h6ocZr8W",
        "colab": {
          "base_uri": "https://localhost:8080/"
        },
        "outputId": "57376ea4-dec5-4fa2-8038-4d31c859ee3c"
      },
      "source": [
        "sessionNoCrA = sessionCountA - crACount\n",
        "sessionNoCrB = sessionCountB - crBCount\n",
        "print(sessionNoCrA, sessionNoCrB)"
      ],
      "execution_count": 21,
      "outputs": [
        {
          "output_type": "stream",
          "text": [
            "40200 40378\n"
          ],
          "name": "stdout"
        }
      ]
    },
    {
      "cell_type": "markdown",
      "metadata": {
        "id": "osODJhW3xMjl"
      },
      "source": [
        "Считаем конверсию для объединенной группы A + B"
      ]
    },
    {
      "cell_type": "code",
      "metadata": {
        "id": "hkcjJPRIxnAS",
        "colab": {
          "base_uri": "https://localhost:8080/"
        },
        "outputId": "419d670c-c9f0-467a-806e-4753163baeca"
      },
      "source": [
        "crMean = (crACount + crBCount) / (sessionCountA + sessionCountB)\n",
        "crMean"
      ],
      "execution_count": 22,
      "outputs": [
        {
          "output_type": "execute_result",
          "data": {
            "text/plain": [
              "0.0036107332756275504"
            ]
          },
          "metadata": {
            "tags": []
          },
          "execution_count": 22
        }
      ]
    },
    {
      "cell_type": "markdown",
      "metadata": {
        "id": "dOdNCC64xfvP"
      },
      "source": [
        "Считаем сколько было бы конверсионных и неконверсионных сессий, если конверсия была бы как у объединенной группы"
      ]
    },
    {
      "cell_type": "code",
      "metadata": {
        "id": "pwCcppgo1Vhv",
        "colab": {
          "base_uri": "https://localhost:8080/"
        },
        "outputId": "ca02201c-388c-4b08-806d-dd314482f77b"
      },
      "source": [
        "sessionCrMeanA = sessionCountA * crMean\n",
        "sessionCrMeanB = sessionCountB * crMean\n",
        "\n",
        "sessionNoCrMeanA = sessionCountA - sessionCrMeanA\n",
        "sessionNoCrMeanB = sessionCountB - sessionCrMeanB\n",
        "print(sessionCrMeanA, sessionCrMeanB, sessionNoCrMeanA, sessionNoCrMeanB)"
      ],
      "execution_count": 23,
      "outputs": [
        {
          "output_type": "stream",
          "text": [
            "145.64975887226413 146.35024112773587 40192.35024112774 40385.64975887226\n"
          ],
          "name": "stdout"
        }
      ]
    },
    {
      "cell_type": "markdown",
      "metadata": {
        "id": "qFSoZ6Inx_2a"
      },
      "source": [
        "По формуле вычисляем вероятность того, что в группе B было статистически значимое улучшение конверсии и нуль-гипотеза может быть отвергнута"
      ]
    },
    {
      "cell_type": "code",
      "metadata": {
        "colab": {
          "base_uri": "https://localhost:8080/"
        },
        "id": "nT31nTuNbqcz",
        "outputId": "c6466197-d73e-4cf8-8e51-300963b9d728"
      },
      "source": [
        "O = np.array([crACount, crBCount, sessionNoCrA, sessionNoCrB])\n",
        "T = np.array([sessionCrMeanA, sessionCrMeanB, sessionNoCrMeanA, sessionNoCrMeanB])\n",
        "D = np.sum(np.square(T-O)/T)\n",
        "pVal = chi2.sf(D, df=1)\n",
        "\n",
        "print(\"distance d: {0}\\np-value: {1}\". format(D, pVal))"
      ],
      "execution_count": 24,
      "outputs": [
        {
          "output_type": "stream",
          "text": [
            "distance d: 0.8045371274499714\n",
            "p-value: 0.3697402956393102\n"
          ],
          "name": "stdout"
        }
      ]
    },
    {
      "cell_type": "markdown",
      "metadata": {
        "id": "lfE10V6lzUlD"
      },
      "source": [
        "Исходя из полученных данных мы видим, что нуль-гипотеза не может быть отвергнута с вероятностью около 37%"
      ]
    },
    {
      "cell_type": "markdown",
      "metadata": {
        "id": "v8dnXhN_z1wv"
      },
      "source": [
        "# Эксперимент 2"
      ]
    },
    {
      "cell_type": "markdown",
      "metadata": {
        "id": "vfwtwCrFrylG"
      },
      "source": [
        "Очищаем исходные данные от дубликатов"
      ]
    },
    {
      "cell_type": "code",
      "metadata": {
        "id": "V4eoUegpr4Rc"
      },
      "source": [
        "data2_1NoDuplicates = data2_1.drop_duplicates()\n",
        "data2_2NoDuplicates = data2_2.drop_duplicates()"
      ],
      "execution_count": 35,
      "outputs": []
    },
    {
      "cell_type": "markdown",
      "metadata": {
        "id": "le78TSh10Z-r"
      },
      "source": [
        "Считаем количество уникальных сессий для групп A и B"
      ]
    },
    {
      "cell_type": "code",
      "metadata": {
        "id": "d3r5mv0G0Z-s",
        "colab": {
          "base_uri": "https://localhost:8080/"
        },
        "outputId": "87190808-a45b-4bbd-c6ed-41eec96f5d55"
      },
      "source": [
        "sessionCountA2 = data2_1NoDuplicates.groupby('session').count().shape[0]\n",
        "sessionCountB2 = data2_2NoDuplicates.groupby('session').count().shape[0]\n",
        "print(sessionCountA2, sessionCountB2)"
      ],
      "execution_count": 27,
      "outputs": [
        {
          "output_type": "stream",
          "text": [
            "40338 40219\n"
          ],
          "name": "stdout"
        }
      ]
    },
    {
      "cell_type": "markdown",
      "metadata": {
        "id": "xhLhyg3J0gpK"
      },
      "source": [
        "Считаем количество конверсий"
      ]
    },
    {
      "cell_type": "code",
      "metadata": {
        "id": "_jQf9cgn0gpL",
        "colab": {
          "base_uri": "https://localhost:8080/"
        },
        "outputId": "24062751-c61d-4868-e69e-903384e39546"
      },
      "source": [
        "crA2Count = data2_1NoDuplicates[data2_1NoDuplicates['event'] == 'payment_done'].shape[0]\n",
        "crB2Count = data2_2NoDuplicates[data2_2NoDuplicates['event'] == 'payment_done'].shape[0]\n",
        "print(crA2Count, crB2Count)"
      ],
      "execution_count": 28,
      "outputs": [
        {
          "output_type": "stream",
          "text": [
            "138 953\n"
          ],
          "name": "stdout"
        }
      ]
    },
    {
      "cell_type": "markdown",
      "metadata": {
        "id": "gZ0sAa8S0gpL"
      },
      "source": [
        "Считаем конверсию для групп и смотрим на разность конверсий"
      ]
    },
    {
      "cell_type": "code",
      "metadata": {
        "colab": {
          "base_uri": "https://localhost:8080/"
        },
        "id": "kiN6JxC30gpL",
        "outputId": "ccf6ddb8-ee0a-476b-e0e4-fd4e901a32f4"
      },
      "source": [
        "crA2 =  crA2Count / sessionCountA2\n",
        "crB2 =  crB2Count / sessionCountB2\n",
        "cr2Delta = crB2 - crA2\n",
        "print(crA2, crB2, cr2Delta)"
      ],
      "execution_count": 29,
      "outputs": [
        {
          "output_type": "stream",
          "text": [
            "0.003421091774505429 0.023695268405479995 0.020274176630974566\n"
          ],
          "name": "stdout"
        }
      ]
    },
    {
      "cell_type": "markdown",
      "metadata": {
        "id": "7T3lBVIu0gpM"
      },
      "source": [
        "Видим увеличение конверсии около 2%"
      ]
    },
    {
      "cell_type": "markdown",
      "metadata": {
        "id": "kTt_P_iWgCdC"
      },
      "source": [
        "Теперь проверим, что количество выборки для групп достаточное для достоверного результата:"
      ]
    },
    {
      "cell_type": "code",
      "metadata": {
        "colab": {
          "base_uri": "https://localhost:8080/"
        },
        "id": "yRW_5neUf21G",
        "outputId": "13593dc4-f9cc-47c7-c8cf-d1ee9d25aa02"
      },
      "source": [
        " # Calculating effect size based on our expected rates\n",
        "effect_size = sms.proportion_effectsize(crA2, crB2, method='normal')\n",
        "\n",
        "# Calculating sample size needed\n",
        "required_n = sms.NormalIndPower().solve_power(\n",
        "    effect_size, \n",
        "    power=0.8, \n",
        "    alpha=0.05, \n",
        "    ratio=1\n",
        "    )\n",
        "\n",
        "required_n = ceil(required_n)                          # Rounding up to next whole number                          \n",
        "print(required_n)"
      ],
      "execution_count": 30,
      "outputs": [
        {
          "output_type": "stream",
          "text": [
            "426\n"
          ],
          "name": "stdout"
        }
      ]
    },
    {
      "cell_type": "markdown",
      "metadata": {
        "id": "8bTNvdomgIW0"
      },
      "source": [
        "Получаем размер выборки - 426 посещений для каждой группы.  \n",
        "Это удовлетваряет нашим группам, где в каждой около 40000 посещений."
      ]
    },
    {
      "cell_type": "markdown",
      "metadata": {
        "id": "-5qFWhcO0gpM"
      },
      "source": [
        "Считаем сессии без конверсии"
      ]
    },
    {
      "cell_type": "code",
      "metadata": {
        "id": "lEzdag1S0gpM",
        "colab": {
          "base_uri": "https://localhost:8080/"
        },
        "outputId": "6027d3f9-5233-4863-f4f6-d115c41aa391"
      },
      "source": [
        "sessionNoCrA2 = sessionCountA2 - crA2Count\n",
        "sessionNoCrB2 = sessionCountB2 - crB2Count\n",
        "print(sessionNoCrA2, sessionNoCrB2)"
      ],
      "execution_count": 31,
      "outputs": [
        {
          "output_type": "stream",
          "text": [
            "40200 39266\n"
          ],
          "name": "stdout"
        }
      ]
    },
    {
      "cell_type": "markdown",
      "metadata": {
        "id": "FfnlYMVK0gpN"
      },
      "source": [
        "Считаем конверсию для объединенной группы A + B"
      ]
    },
    {
      "cell_type": "code",
      "metadata": {
        "id": "kMc-DXUp0gpN",
        "colab": {
          "base_uri": "https://localhost:8080/"
        },
        "outputId": "e239e494-1f55-431e-e141-c3e9138138fb"
      },
      "source": [
        "crMean2 = (crA2Count + crB2Count) / (sessionCountA2 + sessionCountB2)\n",
        "crMean2"
      ],
      "execution_count": 32,
      "outputs": [
        {
          "output_type": "execute_result",
          "data": {
            "text/plain": [
              "0.013543205432178457"
            ]
          },
          "metadata": {
            "tags": []
          },
          "execution_count": 32
        }
      ]
    },
    {
      "cell_type": "markdown",
      "metadata": {
        "id": "FzGMWpr60gpN"
      },
      "source": [
        "Считаем сколько было бы конверсионных и неконверсионных сессий, если конверсия была бы как у объединенной группы"
      ]
    },
    {
      "cell_type": "code",
      "metadata": {
        "id": "E3iHFUIv0gpN",
        "colab": {
          "base_uri": "https://localhost:8080/"
        },
        "outputId": "736b1a1d-ee8e-4370-88ff-f5dc2db358a6"
      },
      "source": [
        "sessionCrMeanA2 = sessionCountA2 * crMean2\n",
        "sessionCrMeanB2 = sessionCountB2 * crMean2\n",
        "\n",
        "sessionNoCrMeanA2 = sessionCountA2 - sessionCrMeanA2\n",
        "sessionNoCrMeanB2 = sessionCountB2 - sessionCrMeanB2\n",
        "print(sessionCrMeanA2, sessionCrMeanB2, sessionNoCrMeanA2, sessionNoCrMeanB2)"
      ],
      "execution_count": 33,
      "outputs": [
        {
          "output_type": "stream",
          "text": [
            "546.3058207232147 544.6941792767853 39791.69417927678 39674.30582072322\n"
          ],
          "name": "stdout"
        }
      ]
    },
    {
      "cell_type": "markdown",
      "metadata": {
        "id": "8ye8ql0S0gpO"
      },
      "source": [
        "По формуле вычисляем вероятность того, что в группе B было статистически значимое улучшение конверсии и нуль-гипотеза может быть отвергнута"
      ]
    },
    {
      "cell_type": "code",
      "metadata": {
        "colab": {
          "base_uri": "https://localhost:8080/"
        },
        "id": "4yJYvpBl0gpO",
        "outputId": "cba60577-c3a7-4cc1-87cc-1a9762ec0410"
      },
      "source": [
        "O2 = np.array([crA2Count, crB2Count, sessionNoCrA2, sessionNoCrB2])\n",
        "T2 = np.array([sessionCrMeanA2, sessionCrMeanB2, sessionNoCrMeanA2, sessionNoCrMeanB2])\n",
        "D2 = np.sum(np.square(T2-O2)/T2)\n",
        "pVal2 = chi2.sf(D2, df=1)\n",
        "\n",
        "print(\"distance d: {0}\\np-value: {1}\". format(D2, pVal2))"
      ],
      "execution_count": 34,
      "outputs": [
        {
          "output_type": "stream",
          "text": [
            "distance d: 619.6254713603117\n",
            "p-value: 9.020192551074774e-137\n"
          ],
          "name": "stdout"
        }
      ]
    },
    {
      "cell_type": "markdown",
      "metadata": {
        "id": "Pf4tX6-b0gpO"
      },
      "source": [
        "Исходя из полученных данных мы видим, что нуль-гипотеза не может быть отвергнута с вероятностью 902*10^-37%, то есть вероятность того, что тестовая и контрольная группы являются множествами одного распределения крайне мала.  \n",
        "Также принимая во внимание, что размер выборки нас удовлетваряет и наблюдается прирост конверсии около 2% в абсолютной величине, то можем сделать вывод что можно вводить новую версию сайта в продакшн."
      ]
    }
  ]
}